{
 "cells": [
  {
   "cell_type": "code",
   "execution_count": 2,
   "metadata": {},
   "outputs": [],
   "source": [
    "import numpy as np\n",
    "import cv2"
   ]
  },
  {
   "cell_type": "code",
   "execution_count": 11,
   "metadata": {},
   "outputs": [
    {
     "name": "stdout",
     "output_type": "stream",
     "text": [
      "[[ 2.12949203e+03  1.55132281e+02  8.20439554e+01  1.41050036e+04]\n",
      " [-1.55062713e+02  2.13326434e+03  9.83929178e+01  6.94311769e+03]\n",
      " [ 5.47928716e-02 -2.09287937e-02  9.98278381e-01  9.97801819e+01]]\n"
     ]
    }
   ],
   "source": [
    "data = np.load('intrinsics.npz')\n",
    "Lcam = data[\"Lcam\"]\n",
    "print(Lcam)"
   ]
  },
  {
   "cell_type": "code",
   "execution_count": null,
   "metadata": {},
   "outputs": [],
   "source": [
    "\n",
    "Lcam = np.array([[ 2.12949203e+03  1.55132281e+02  8.20439554e+01  1.41050036e+04]\n",
    " [-1.55062713e+02  2.13326434e+03  9.83929178e+01  6.94311769e+03]\n",
    " [ 5.47928716e-02 -2.09287937e-02  9.98278381e-01  9.97801819e+01]])\n"
   ]
  },
  {
   "cell_type": "code",
   "execution_count": 8,
   "metadata": {},
   "outputs": [],
   "source": [
    "grid_counts = (7, 9)\n",
    "# grid_lengths = (7., 9.)\n",
    "side_lengths = (7.4/8, 9.7/11)\n",
    "# side_lengths = (grid_lengths[0]/grid_counts[0], grid_lengths[1]/grid_counts[1])\n",
    "\n",
    "def pxl_to_board(px, py, Z=0):\n",
    "    X = np.linalg.inv(np.hstack((Lcam[:,0:2] ,np.array([[-1*px],[-1*py],[-1]])))).dot((-Z*Lcam[:,2]-Lcam[:,3]))\n",
    "    return X[:2]\n",
    "\n",
    "center_board = pxl_to_board(0,0)\n",
    "\n",
    "def pxl_to_pose(px, py):\n",
    "    X = pxl_to_board(px, py) - center_board\n",
    "#     X = np.linalg.inv(np.hstack((Lcam[:,0:2] ,np.array([[-1*px],[-1*py],[-1]])))).dot((-Z*Lcam[:,2]-Lcam[:,3]))\n",
    "    return [X[0]*side_lengths[0], X[1]*side_lengths[1]]\n"
   ]
  },
  {
   "cell_type": "code",
   "execution_count": 10,
   "metadata": {},
   "outputs": [
    {
     "data": {
      "text/plain": [
       "[0.0429980770910829, 0.002979538857407858]"
      ]
     },
     "execution_count": 10,
     "metadata": {},
     "output_type": "execute_result"
    }
   ],
   "source": [
    "pxl_to_pose(1,0)"
   ]
  },
  {
   "cell_type": "code",
   "execution_count": null,
   "metadata": {},
   "outputs": [],
   "source": [
    "resolution = (1080, 720)\n",
    "x_res = resolution[0]\n",
    "\n",
    "# translations = []\n",
    "x_pxls = np.arange(x_res)\n",
    "x_meters = [pxl_to_pose(px, 0) for px in x_pxls]\n",
    "angles = [np.atan2(x_meter, height) for x_meter in x_meters]\n",
    "\n",
    "# np.interp \n",
    "\n",
    "def x_pxl_to_angle(x_pxl):\n",
    "    return angles[x_pxl]\n"
   ]
  },
  {
   "cell_type": "code",
   "execution_count": null,
   "metadata": {},
   "outputs": [],
   "source": []
  },
  {
   "cell_type": "code",
   "execution_count": null,
   "metadata": {},
   "outputs": [],
   "source": [
    "# termination criteria\n",
    "criteria = (cv.TERM_CRITERIA_EPS + cv.TERM_CRITERIA_MAX_ITER, 30, 0.001)\n",
    "\n",
    "grid_size\n",
    "# prepare object points, like (0,0,0), (1,0,0), (2,0,0) ....,(6,5,0)\n",
    "objp = np.zeros((6*7,3), np.float32)\n",
    "objp[:,:2] = np.mgrid[0:7,0:6].T.reshape(-1,2)\n",
    "# Arrays to store object points and image points from all the images.\n",
    "objpoints = [] # 3d point in real world space\n",
    "imgpoints = [] # 2d points in image plane.\n",
    "image_file = 'checkerboard.png'\n",
    "img = cv.imread(fname)\n",
    "gray = cv.cvtColor(img, cv.COLOR_BGR2GRAY)\n",
    "# Find the chess board corners\n",
    "ret, corners = cv.findChessboardCorners(gray, (7,6), None)\n",
    "    # If found, add object points, image points (after refining them)\n",
    "    if ret == True:\n",
    "        objpoints.append(objp)\n",
    "        corners2 = cv.cornerSubPix(gray,corners, (11,11), (-1,-1), criteria)\n",
    "        imgpoints.append(corners)\n",
    "        # Draw and display the corners\n",
    "        cv.drawChessboardCorners(img, (7,6), corners2, ret)\n",
    "        cv.imshow('img', img)\n",
    "        cv.waitKey(500)\n",
    "cv.destroyAllWindows()"
   ]
  },
  {
   "cell_type": "code",
   "execution_count": null,
   "metadata": {},
   "outputs": [],
   "source": [
    "import numpy as np\n",
    "import cv2\n",
    "\n",
    "CHECKERBOARD = (6, 9)\n",
    "\n",
    "\n",
    "# stop the iteration when specified\n",
    "# accuracy, epsilon, is reached or\n",
    "# specified number of iterations are completed.\n",
    "criteria = (cv2.TERM_CRITERIA_EPS +\n",
    "            cv2.TERM_CRITERIA_MAX_ITER, 30, 0.001)\n",
    "\n",
    "\n",
    "# Vector for 3D points\n",
    "obj_points = []\n",
    "\n",
    "# Vector for 2D points\n",
    "img_points = []\n",
    "\n",
    "\n",
    "#  3D points real world coordinates\n",
    "objectp3d = np.zeros((1, CHECKERBOARD[0]\n",
    "                      * CHECKERBOARD[1],\n",
    "                      3), np.float32)\n",
    "objectp3d[0, :, :2] = np.mgrid[0:CHECKERBOARD[0],\n",
    "                               0:CHECKERBOARD[1]].T.reshape(-1, 2)\n",
    "\n",
    " \n",
    "filename = \"a.jpg\"\n",
    "image = cv2.imread(filename)\n",
    "grayColor = cv2.cvtColor(image, cv2.COLOR_BGR2GRAY)\n",
    "\n",
    "# Find the chess board corners\n",
    "# If desired number of corners are\n",
    "# found in the image then ret = true\n",
    "ret, corners = cv2.findChessboardCorners(\n",
    "                grayColor, CHECKERBOARD,\n",
    "                cv2.CALIB_CB_ADAPTIVE_THRESH\n",
    "                + cv2.CALIB_CB_FAST_CHECK +\n",
    "                cv2.CALIB_CB_NORMALIZE_IMAGE)\n",
    "\n",
    "# If desired number of corners can be detected then,\n",
    "# refine the pixel coordinates and display\n",
    "# them on the images of checker board\n",
    "if ret == True:\n",
    "    obj_points.append(objectp3d)\n",
    "\n",
    "    # Refining pixel coordinates\n",
    "    # for given 2d points.\n",
    "    corners2 = cv2.cornerSubPix(\n",
    "        grayColor, corners, (11, 11), (-1, -1), criteria)\n",
    "\n",
    "    img_points.append(corners2)\n",
    "\n",
    "    # Draw and display the corners\n",
    "    image = cv2.drawChessboardCorners(image,\n",
    "                                        CHECKERBOARD,\n",
    "                                        corners2, ret)\n",
    "else:\n",
    "    print(\"Failed\")\n",
    "\n",
    "cv2.imshow('img', image)\n",
    "cv2.waitKey(0)\n",
    "\n",
    "cv2.destroyAllWindows()\n",
    "\n",
    "ret, matrix, distortion, r_vecs, t_vecs = cv2.calibrateCamera(\n",
    "    obj_points, img_points, grayColor.shape[::-1], None, None)\n",
    "\n",
    "Lcam = matrix.dot(np.hstack((cv2.Rodrigues(r_vecs[0])[0],t_vecs[0])))\n",
    "\n",
    "np.save(\"intrinsics_.npy\",\n",
    "    ret=ret, matrix=matrix, distortion=distortion,\n",
    "    r_vecs=r_vecs, t_vecs=t_vecs, Lcam=Lcam,\n",
    "    obj_points=obj_points, img_points=img_points)"
   ]
  }
 ],
 "metadata": {
  "kernelspec": {
   "display_name": "Python 3",
   "language": "python",
   "name": "python3"
  },
  "language_info": {
   "codemirror_mode": {
    "name": "ipython",
    "version": 3
   },
   "file_extension": ".py",
   "mimetype": "text/x-python",
   "name": "python",
   "nbconvert_exporter": "python",
   "pygments_lexer": "ipython3",
   "version": "3.7.4"
  }
 },
 "nbformat": 4,
 "nbformat_minor": 2
}
